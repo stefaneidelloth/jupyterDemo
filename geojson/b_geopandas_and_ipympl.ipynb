{
 "cells": [
  {
   "cell_type": "code",
   "execution_count": 4,
   "metadata": {},
   "outputs": [],
   "source": [
    "# Also see\n",
    "# https://towardsdatascience.com/how-to-produce-interactive-matplotlib-plots-in-jupyter-environment-1e4329d71651\n",
    "\n",
    "import pandas as pd\n",
    "import geopandas as gpd\n",
    "\n",
    "carshare = \"https://raw.githubusercontent.com/plotly/datasets/master/carshare.csv\"\n",
    "df_carshare = pd.read_csv(carshare)\n",
    "geometry = gpd.points_from_xy(\n",
    "    df_carshare.centroid_lon, \n",
    "    df_carshare.centroid_lat\n",
    ")\n",
    "gdf = gpd.GeoDataFrame(\n",
    "    df_carshare, \n",
    "    geometry=geometry, \n",
    "    crs=\"EPSG:4326\"\n",
    ")"
   ]
  },
  {
   "cell_type": "code",
   "execution_count": 5,
   "metadata": {},
   "outputs": [],
   "source": [
    "%matplotlib widget"
   ]
  },
  {
   "cell_type": "code",
   "execution_count": 6,
   "metadata": {},
   "outputs": [
    {
     "data": {
      "application/vnd.jupyter.widget-view+json": {
       "model_id": "481aa8d05fef4027b49dd3771d1a3321",
       "version_major": 2,
       "version_minor": 0
      },
      "text/plain": [
       "Canvas(toolbar=Toolbar(toolitems=[('Home', 'Reset original view', 'home', 'home'), ('Back', 'Back to previous …"
      ]
     },
     "metadata": {},
     "output_type": "display_data"
    }
   ],
   "source": [
    "import contextily as ctx\n",
    "import matplotlib.pyplot as plt\n",
    "\n",
    "fig, ax = plt.subplots()\n",
    "plt.title(\"Car Share\", fontsize=30, fontname=\"Palatino Linotype\", color=\"grey\")\n",
    "ax.axis(\"off\")\n",
    "\n",
    "fig.canvas.toolbar_visible = True\n",
    "fig.canvas.header_visible = True\n",
    "fig.canvas.resizable = True\n",
    "\n",
    "gdf.to_crs(epsg=3857).plot(ax=ax, color=\"red\", edgecolor=\"white\")\n",
    "ctx.add_basemap(ax, source=ctx.providers.CartoDB.Positron)\n",
    "\n",
    "\n",
    "plt.show()"
   ]
  },
  {
   "cell_type": "code",
   "execution_count": null,
   "metadata": {},
   "outputs": [],
   "source": []
  }
 ],
 "metadata": {
  "kernelspec": {
   "display_name": "Python 3",
   "language": "python",
   "name": "python3"
  },
  "language_info": {
   "codemirror_mode": {
    "name": "ipython",
    "version": 3
   },
   "file_extension": ".py",
   "mimetype": "text/x-python",
   "name": "python",
   "nbconvert_exporter": "python",
   "pygments_lexer": "ipython3",
   "version": "3.8.5"
  }
 },
 "nbformat": 4,
 "nbformat_minor": 4
}
