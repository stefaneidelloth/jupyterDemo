{
 "cells": [
  {
   "cell_type": "code",
   "execution_count": 37,
   "metadata": {},
   "outputs": [],
   "source": [
    "# Also see\n",
    "# https://towardsdatascience.com/ipyleaflet-interactive-mapping-in-jupyter-notebook-994f19611e79\n",
    "import ipyleaflet as leaflet"
   ]
  },
  {
   "cell_type": "code",
   "execution_count": 45,
   "metadata": {},
   "outputs": [
    {
     "data": {
      "application/vnd.jupyter.widget-view+json": {
       "model_id": "447c7c972ff1478ba76f6e55d4b40824",
       "version_major": 2,
       "version_minor": 0
      },
      "text/plain": [
       "Map(center=[49.0283, 8.4413], controls=(ZoomControl(options=['position', 'zoom_in_text', 'zoom_in_title', 'zoo…"
      ]
     },
     "metadata": {},
     "output_type": "display_data"
    }
   ],
   "source": [
    "# Base layer\n",
    "center = [49.0283, 8.4413]  # lat, long\n",
    "zoom = 22\n",
    "\n",
    "base_map = leaflet.Map(\n",
    "    basemap=leaflet.basemaps.Esri.WorldImagery,\n",
    "    center=center,\n",
    "    zoom=zoom\n",
    ")\n",
    "base_map"
   ]
  },
  {
   "cell_type": "code",
   "execution_count": 46,
   "metadata": {},
   "outputs": [
    {
     "data": {
      "application/vnd.jupyter.widget-view+json": {
       "model_id": "49148494d75843bb9d67dd96a06c41f6",
       "version_major": 2,
       "version_minor": 0
      },
      "text/plain": [
       "Map(center=[49.0283, 8.4413], controls=(ZoomControl(options=['position', 'zoom_in_text', 'zoom_in_title', 'zoo…"
      ]
     },
     "metadata": {},
     "output_type": "display_data"
    }
   ],
   "source": [
    "# Extra layer\n",
    "map = leaflet.Map(\n",
    "    basemap=leaflet.basemaps.Esri.WorldImagery,\n",
    "    center=center,\n",
    "    zoom=zoom\n",
    ")\n",
    "stamen = leaflet.basemap_to_tiles(leaflet.basemaps.Stamen.Toner)\n",
    "map.add_layer(stamen)\n",
    "map"
   ]
  },
  {
   "cell_type": "code",
   "execution_count": 42,
   "metadata": {},
   "outputs": [],
   "source": [
    "# Markers\n",
    "marker = leaflet.Marker(location=center, draggable=False)\n",
    "map.add_layer(marker)"
   ]
  },
  {
   "cell_type": "code",
   "execution_count": 41,
   "metadata": {},
   "outputs": [],
   "source": [
    "# Icons\n",
    "icon_url = \"http://icons.iconarchive.com/icons/pelfusion/long-shadow-media/512/Maps-Pin-Place-icon.png\"\n",
    "icon = leaflet.Icon(icon_url=icon_url)\n",
    "mark = leaflet.Marker(\n",
    "    location=[49.0283, 8.4415],\n",
    "    icon=icon,\n",
    "    rotation_angle=0,\n",
    "    rotation_origin='128px 128px'\n",
    ")\n",
    "map.add_layer(mark)"
   ]
  },
  {
   "cell_type": "code",
   "execution_count": 44,
   "metadata": {},
   "outputs": [],
   "source": [
    "# from ipywidgets import Text, HTML\n",
    "# from branca.colormap import linear\n",
    "# import geopandas as gpd\n",
    "# import json"
   ]
  },
  {
   "cell_type": "code",
   "execution_count": null,
   "metadata": {},
   "outputs": [],
   "source": []
  }
 ],
 "metadata": {
  "kernelspec": {
   "display_name": "Python 3",
   "language": "python",
   "name": "python3"
  },
  "language_info": {
   "codemirror_mode": {
    "name": "ipython",
    "version": 3
   },
   "file_extension": ".py",
   "mimetype": "text/x-python",
   "name": "python",
   "nbconvert_exporter": "python",
   "pygments_lexer": "ipython3",
   "version": "3.8.5"
  }
 },
 "nbformat": 4,
 "nbformat_minor": 4
}
