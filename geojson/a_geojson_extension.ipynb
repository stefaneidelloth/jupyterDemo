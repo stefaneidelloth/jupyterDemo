{
 "cells": [
  {
   "cell_type": "code",
   "execution_count": 13,
   "metadata": {},
   "outputs": [
    {
     "data": {
      "application/geo+json": {
       "geometry": {
        "coordinates": [
         8.4413,
         49.0283
        ],
        "type": "Point"
       },
       "type": "Feature"
      },
      "text/plain": [
       "<IPython.display.GeoJSON object>"
      ]
     },
     "metadata": {
      "application/geo+json": {
       "expanded": false,
       "root": "root"
      }
     },
     "output_type": "display_data"
    }
   ],
   "source": [
    "# Also see\n",
    "# https://towardsdatascience.com/4-must-have-jupyterlab-extensions-for-geospatial-data-science-f3cf7822de4b\n",
    "# https://github.com/jupyterlab/jupyter-renderers/tree/master/packages/geojson-extension\n",
    "\n",
    "from IPython.display import GeoJSON\n",
    "GeoJSON({\n",
    "    \"type\": \"Feature\",\n",
    "    \"geometry\": {\n",
    "        \"type\": \"Point\",\n",
    "        \"coordinates\": [8.4413, 49.0283]  # long, lat\n",
    "    }\n",
    "})"
   ]
  },
  {
   "cell_type": "code",
   "execution_count": 15,
   "metadata": {},
   "outputs": [
    {
     "data": {
      "application/geo+json": {
       "geometry": {
        "coordinates": [
         11.8,
         -45.04
        ],
        "type": "Point"
       },
       "type": "Feature"
      },
      "text/plain": [
       "<IPython.display.GeoJSON object>"
      ]
     },
     "metadata": {
      "application/geo+json": {
       "expanded": false,
       "layer_options": {
        "attribution": "Celestia/praesepe",
        "basemap_id": "celestia_mars-shaded-16k_global",
        "maxZoom": 5,
        "minZoom": 0,
        "tms": true
       },
       "root": "root",
       "url_template": "http://s3-eu-west-1.amazonaws.com/whereonmars.cartodb.net/{basemap_id}/{z}/{x}/{y}.png"
      }
     },
     "output_type": "display_data"
    }
   ],
   "source": [
    "# GeoJSON on Mars\n",
    "\n",
    "GeoJSON(\n",
    "  data={\n",
    "      \"type\": \"Feature\",\n",
    "      \"geometry\": {\n",
    "          \"type\": \"Point\",\n",
    "          \"coordinates\": [11.8, -45.04]\n",
    "      }\n",
    "  }, url_template=\"http://s3-eu-west-1.amazonaws.com/whereonmars.cartodb.net/{basemap_id}/{z}/{x}/{y}.png\",\n",
    "  layer_options={\n",
    "      \"basemap_id\": \"celestia_mars-shaded-16k_global\",\n",
    "      \"attribution\" : \"Celestia/praesepe\",\n",
    "      \"tms\": True,\n",
    "      \"minZoom\" : 0,\n",
    "      \"maxZoom\" : 5\n",
    "  }\n",
    ")"
   ]
  },
  {
   "cell_type": "code",
   "execution_count": null,
   "metadata": {},
   "outputs": [],
   "source": [
    "# Use Mapbox layer (requires access token)\n",
    "\n",
    "GeoJSON(\n",
    "    data={\n",
    "        \"type\": \"Feature\",\n",
    "        \"geometry\": {\n",
    "            \"type\": \"Point\",\n",
    "            \"coordinates\": [-118.4563712, 34.0163116]\n",
    "        }\n",
    "    }, url_template=\"https://api.tiles.mapbox.com/v4/{id}/{z}/{x}/{y}.png\",\n",
    "    layer_options={\n",
    "        \"id\": \"mapbox.streets\",\n",
    "        \"attribution\" : '&copy; <a href=\"https://www.openstreetmap.org/copyright\">OpenStreetMap</a>'\n",
    "    }\n",
    ")"
   ]
  }
 ],
 "metadata": {
  "kernelspec": {
   "display_name": "Python 3",
   "language": "python",
   "name": "python3"
  },
  "language_info": {
   "codemirror_mode": {
    "name": "ipython",
    "version": 3
   },
   "file_extension": ".py",
   "mimetype": "text/x-python",
   "name": "python",
   "nbconvert_exporter": "python",
   "pygments_lexer": "ipython3",
   "version": "3.8.5"
  }
 },
 "nbformat": 4,
 "nbformat_minor": 4
}
